{
  "nbformat": 4,
  "nbformat_minor": 0,
  "metadata": {
    "colab": {
      "name": "WebScraping.ipynb",
      "provenance": [],
      "authorship_tag": "ABX9TyNXbg0D6gP2zbVd/diEMk6F",
      "include_colab_link": true
    },
    "kernelspec": {
      "name": "python3",
      "display_name": "Python 3"
    }
  },
  "cells": [
    {
      "cell_type": "markdown",
      "metadata": {
        "id": "view-in-github",
        "colab_type": "text"
      },
      "source": [
        "<a href=\"https://colab.research.google.com/github/stephfz/ML-supervised-learning/blob/master/WebScraping.ipynb\" target=\"_parent\"><img src=\"https://colab.research.google.com/assets/colab-badge.svg\" alt=\"Open In Colab\"/></a>"
      ]
    },
    {
      "cell_type": "markdown",
      "metadata": {
        "id": "LZkTP8d7kddK"
      },
      "source": [
        "# Web Scraping con python\n",
        "\n",
        "¿Qué es webscraping?\n",
        "Es la extracción de data que podemos encontrar en alguna website\n",
        "\n",
        "\n",
        "\n"
      ]
    },
    {
      "cell_type": "markdown",
      "metadata": {
        "id": "AhPiO_k2ezYv"
      },
      "source": [
        "## ¿Cómo funciona un web scraper?\n",
        "Un web scraper toma una url determinada y \"se carga\" todo el contenido HTML. Es por esto que súper importante entender a full HTML y conocer de css ya que podremos iniciar la extraccion indicandole al scraper en que etiquetas o nodos encontrará la data que le requerimos. \n"
      ]
    },
    {
      "cell_type": "markdown",
      "metadata": {
        "id": "V9VXURQil7qJ"
      },
      "source": [
        "# ¿Qué vamos a emplear?"
      ]
    },
    {
      "cell_type": "code",
      "metadata": {
        "colab": {
          "base_uri": "https://localhost:8080/"
        },
        "id": "Mvht7i7LZqMY",
        "outputId": "deda3116-733f-4aec-ab73-83220b124f2c"
      },
      "source": [
        "!pip install beautifulsoup4"
      ],
      "execution_count": null,
      "outputs": [
        {
          "output_type": "stream",
          "text": [
            "Requirement already satisfied: beautifulsoup4 in /usr/local/lib/python3.6/dist-packages (4.6.3)\n"
          ],
          "name": "stdout"
        }
      ]
    },
    {
      "cell_type": "code",
      "metadata": {
        "colab": {
          "base_uri": "https://localhost:8080/"
        },
        "id": "KsNFJbqlaJUh",
        "outputId": "80582f68-357d-4f23-c1ec-a5b86976bcd2"
      },
      "source": [
        "!pip install requests"
      ],
      "execution_count": null,
      "outputs": [
        {
          "output_type": "stream",
          "text": [
            "Requirement already satisfied: requests in /usr/local/lib/python3.6/dist-packages (2.23.0)\n",
            "Requirement already satisfied: urllib3!=1.25.0,!=1.25.1,<1.26,>=1.21.1 in /usr/local/lib/python3.6/dist-packages (from requests) (1.24.3)\n",
            "Requirement already satisfied: idna<3,>=2.5 in /usr/local/lib/python3.6/dist-packages (from requests) (2.10)\n",
            "Requirement already satisfied: chardet<4,>=3.0.2 in /usr/local/lib/python3.6/dist-packages (from requests) (3.0.4)\n",
            "Requirement already satisfied: certifi>=2017.4.17 in /usr/local/lib/python3.6/dist-packages (from requests) (2020.12.5)\n"
          ],
          "name": "stdout"
        }
      ]
    },
    {
      "cell_type": "markdown",
      "metadata": {
        "id": "UDofC-eVj5xI"
      },
      "source": [
        "## \"Cargando\" la pagina"
      ]
    },
    {
      "cell_type": "code",
      "metadata": {
        "id": "xTGDLtwvaLnl"
      },
      "source": [
        "import requests\n",
        "import pprint\n",
        "\n",
        "URL = 'https://www.buscalibre.cl/libros/search?q=bailarina'\n",
        "page = requests.get(URL)\n",
        "#pprint.pprint(page.content)"
      ],
      "execution_count": null,
      "outputs": []
    },
    {
      "cell_type": "markdown",
      "metadata": {
        "id": "IiLWARHwvmRe"
      },
      "source": [
        "## Extrayendo un _SOLO_ elemento"
      ]
    },
    {
      "cell_type": "code",
      "metadata": {
        "colab": {
          "base_uri": "https://localhost:8080/"
        },
        "id": "PI-TtwTXawfW",
        "outputId": "f8e557a8-122e-42a9-e9cf-0f344993cf7f"
      },
      "source": [
        "from bs4 import BeautifulSoup\n",
        "soup = BeautifulSoup(page.content, 'html.parser')\n",
        "#buscamos todos los elementos que esten marcados con las clase producto \n",
        "results = soup.find_all('div',class_='producto')\n",
        "print(len(results))"
      ],
      "execution_count": null,
      "outputs": [
        {
          "output_type": "stream",
          "text": [
            "41\n"
          ],
          "name": "stdout"
        }
      ]
    },
    {
      "cell_type": "code",
      "metadata": {
        "id": "rM1j_r5_dBCV"
      },
      "source": [
        "# tambien podemos todos los resultados\n",
        "print(results.prettify())"
      ],
      "execution_count": null,
      "outputs": []
    },
    {
      "cell_type": "code",
      "metadata": {
        "colab": {
          "base_uri": "https://localhost:8080/"
        },
        "id": "m5ergiM7gXRy",
        "outputId": "16d7de1e-e043-4b77-a5b6-6ee3015765e2"
      },
      "source": [
        "print(results[1].prettify())"
      ],
      "execution_count": null,
      "outputs": [
        {
          "output_type": "stream",
          "text": [
            "<div class=\"producto dcto30 testgrillameta producto1257131\" data-id_producto=\"1257131\" data-precio=\"1870\">\n",
            " <a href=\"https://www.buscalibre.cl/libro-celestina-la-vaca-bailarina/9789872215927/p/1257131\" title=\" Celestina la Vaca Bailarina  \">\n",
            "  <div class=\"imagen\">\n",
            "   <img alt=\"Celestina la Vaca Bailarina - Ana Iriarte - David Donayo\" class=\"lazyload\" data-src=\"https://images.cdn3.buscalibre.com/fit-in/180x180/52/48/524859d2bcd89acd0b2806bf263ce968.jpg\"/>\n",
            "  </div>\n",
            "  <div class=\"nombre margin-top-10 text-align-left\">\n",
            "   Celestina la Vaca Bailarina\n",
            "  </div>\n",
            "  <div class=\"autor\">\n",
            "   Ana Iriarte\n",
            "  </div>\n",
            "  <div class=\"box-stars hide-on-hover\" style=\"height:23px;\">\n",
            "  </div>\n",
            "  <div class=\"autor color-dark-gray metas hide-on-hover\">\n",
            "   David Donayo, 2005, Tapa blanda, Nuevo\n",
            "  </div>\n",
            "  <div class=\"box-precio-v2 row margin-top-10 hide-on-hover\">\n",
            "   <div class=\"box-dcto col-xs-5\" style=\"\">\n",
            "    <div class=\"descuento-v2 color-white position-relative\">\n",
            "     25%\n",
            "     <div class=\"font-size-small font-weight-light\">\n",
            "      dcto\n",
            "     </div>\n",
            "    </div>\n",
            "   </div>\n",
            "   <div class=\"box-precios col-xs-7 text-align-right padding-left-0\">\n",
            "    <h5 class=\"precio-antes hide-on-hover margin-0 color-dark-gray font-weight-normal\" style=\"\">\n",
            "     <del>\n",
            "      $ 2.490\n",
            "     </del>\n",
            "    </h5>\n",
            "   </div>\n",
            "  </div>\n",
            " </a>\n",
            "</div>\n",
            "\n"
          ],
          "name": "stdout"
        }
      ]
    },
    {
      "cell_type": "markdown",
      "metadata": {
        "id": "cGSfoC8vy_Ww"
      },
      "source": [
        "**Obteniendo un valor por etiqueta dentro de un elemento de la sopa**"
      ]
    },
    {
      "cell_type": "code",
      "metadata": {
        "colab": {
          "base_uri": "https://localhost:8080/"
        },
        "id": "rTR4_bwAdGS-",
        "outputId": "b4bfd421-fb34-4ac7-8d12-5d54fd1ecc71"
      },
      "source": [
        "element = results[1] \n",
        "book_title = element.find('a')['title']\n",
        "print(book_title)"
      ],
      "execution_count": null,
      "outputs": [
        {
          "output_type": "stream",
          "text": [
            " Celestina la Vaca Bailarina  \n"
          ],
          "name": "stdout"
        }
      ]
    },
    {
      "cell_type": "markdown",
      "metadata": {
        "id": "w7QVq2LrVm8v"
      },
      "source": [
        "**Obteniendo el Autor**"
      ]
    },
    {
      "cell_type": "code",
      "metadata": {
        "colab": {
          "base_uri": "https://localhost:8080/",
          "height": 35
        },
        "id": "uetlhV9mVorh",
        "outputId": "78e68456-17fd-4147-8363-93492fc5a61b"
      },
      "source": [
        "element.find('div',class_='autor').text"
      ],
      "execution_count": null,
      "outputs": [
        {
          "output_type": "execute_result",
          "data": {
            "application/vnd.google.colaboratory.intrinsic+json": {
              "type": "string"
            },
            "text/plain": [
              "'Javier Ruescas'"
            ]
          },
          "metadata": {
            "tags": []
          },
          "execution_count": 25
        }
      ]
    },
    {
      "cell_type": "markdown",
      "metadata": {
        "id": "jH3citJ9AlLY"
      },
      "source": [
        "**Obteniendo Atributos custom**"
      ]
    },
    {
      "cell_type": "code",
      "metadata": {
        "colab": {
          "base_uri": "https://localhost:8080/"
        },
        "id": "YKE5KI6wgZ2-",
        "outputId": "9bc6cdb5-d619-490a-f74f-a9ea2bf012f4"
      },
      "source": [
        "print(element['data-precio'])"
      ],
      "execution_count": null,
      "outputs": [
        {
          "output_type": "stream",
          "text": [
            "1870\n"
          ],
          "name": "stdout"
        }
      ]
    },
    {
      "cell_type": "markdown",
      "metadata": {
        "id": "_BsZimRUDGXJ"
      },
      "source": [
        "**Obteniendo data de un elemento anidado**"
      ]
    },
    {
      "cell_type": "code",
      "metadata": {
        "id": "ZIk3UjSxDMJz"
      },
      "source": [
        "print(element.find_all('div', class_='descuento-v2')[0].text)"
      ],
      "execution_count": null,
      "outputs": []
    },
    {
      "cell_type": "code",
      "metadata": {
        "colab": {
          "base_uri": "https://localhost:8080/"
        },
        "id": "YRoiiepDJfiB",
        "outputId": "7711b1a0-5640-4ca0-ed50-1e9dbe8ae132"
      },
      "source": [
        "import requests\n",
        "URL = 'https://www.buscalibre.cl/libros/search?q=bailarina&page=5'\n",
        "response = requests.get(URL)\n",
        "not_found = 'Lo sentimos, pero no encontramos lo que buscas'\n",
        "print(response.status_code)\n",
        "print (not_found not in response.text)"
      ],
      "execution_count": null,
      "outputs": [
        {
          "output_type": "stream",
          "text": [
            "200\n",
            "True\n"
          ],
          "name": "stdout"
        }
      ]
    },
    {
      "cell_type": "markdown",
      "metadata": {
        "id": "6VFC-s_rDODj"
      },
      "source": [
        "**Juntando todo y a obtener los datos de todos los resultados**\n",
        "\n"
      ]
    },
    {
      "cell_type": "code",
      "metadata": {
        "id": "brfgC8CXHbWB"
      },
      "source": [
        "titles = []\n",
        "prices = []\n",
        "discounts = []\n",
        "authors  = []\n",
        "\n",
        "not_found_msg = 'Lo sentimos, pero no encontramos lo que buscas'\n",
        "URL = 'https://www.buscalibre.cl/libros/search?q=bailarina&page='\n",
        "pag_index = 1\n",
        "\n",
        "from bs4 import BeautifulSoup\n",
        "\n",
        "\n",
        "while (True):\n",
        "  URL = 'https://www.buscalibre.cl/libros/search?q=bailarina&page={0}'.format(pag_index)\n",
        "  response = requests.get(URL)\n",
        "  if (not_found_msg not in response.text):\n",
        "    soup = BeautifulSoup(response.content, 'html.parser')\n",
        "    #buscamos todos los elementos que esten marcados con las clase producto \n",
        "    results = soup.find_all('div',class_='producto')\n",
        "    for element in results:\n",
        "      titles.append(element.find('a')['title'])\n",
        "      authors.append(element.find('div',class_='autor').text)\n",
        "      prices.append(element['data-precio'])\n",
        "      discounts.append(element.find_all('div', class_='descuento-v2')[0].text)\n",
        "    pag_index+= 1\n",
        "  else:\n",
        "    break;    "
      ],
      "execution_count": null,
      "outputs": []
    },
    {
      "cell_type": "code",
      "metadata": {
        "colab": {
          "base_uri": "https://localhost:8080/",
          "height": 979
        },
        "id": "GCSAxGlEPJGE",
        "outputId": "f08fb4de-4476-4450-c6d4-0e9261a83016"
      },
      "source": [
        "import pandas as pd\n",
        "data = {'title' : titles, 'author':authors, 'price':prices, 'dscto':discounts}\n",
        "df = pd.DataFrame(data)\n",
        "df.tail(30)"
      ],
      "execution_count": null,
      "outputs": [
        {
          "output_type": "execute_result",
          "data": {
            "text/html": [
              "<div>\n",
              "<style scoped>\n",
              "    .dataframe tbody tr th:only-of-type {\n",
              "        vertical-align: middle;\n",
              "    }\n",
              "\n",
              "    .dataframe tbody tr th {\n",
              "        vertical-align: top;\n",
              "    }\n",
              "\n",
              "    .dataframe thead th {\n",
              "        text-align: right;\n",
              "    }\n",
              "</style>\n",
              "<table border=\"1\" class=\"dataframe\">\n",
              "  <thead>\n",
              "    <tr style=\"text-align: right;\">\n",
              "      <th></th>\n",
              "      <th>title</th>\n",
              "      <th>author</th>\n",
              "      <th>price</th>\n",
              "      <th>dscto</th>\n",
              "    </tr>\n",
              "  </thead>\n",
              "  <tbody>\n",
              "    <tr>\n",
              "      <th>220</th>\n",
              "      <td>Processo Criativo em Dança com uma Bailarina ...</td>\n",
              "      <td>Marina Mota</td>\n",
              "      <td>122560</td>\n",
              "      <td>28%dcto</td>\n",
              "    </tr>\n",
              "    <tr>\n",
              "      <th>221</th>\n",
              "      <td>Postal Antigua</td>\n",
              "      <td>Old Postcard: Bailarinas</td>\n",
              "      <td>30420</td>\n",
              "      <td></td>\n",
              "    </tr>\n",
              "    <tr>\n",
              "      <th>222</th>\n",
              "      <td>Ana Pawlowa, La Bailarina Del Zar</td>\n",
              "      <td>Schmidt Aleman, Heinz P</td>\n",
              "      <td>42500</td>\n",
              "      <td></td>\n",
              "    </tr>\n",
              "    <tr>\n",
              "      <th>223</th>\n",
              "      <td>La Ballarina: 8 (Petits Plaers) (libro en Cat...</td>\n",
              "      <td>Ōgai Mori</td>\n",
              "      <td>20870</td>\n",
              "      <td>28%dcto</td>\n",
              "    </tr>\n",
              "    <tr>\n",
              "      <th>224</th>\n",
              "      <td>BARBIE, 12 PRINCESAS BAILARINAS</td>\n",
              "      <td></td>\n",
              "      <td>39200</td>\n",
              "      <td></td>\n",
              "    </tr>\n",
              "    <tr>\n",
              "      <th>225</th>\n",
              "      <td>El Bailarín Pleinair</td>\n",
              "      <td>Patricio Bulnes</td>\n",
              "      <td>39200</td>\n",
              "      <td></td>\n",
              "    </tr>\n",
              "    <tr>\n",
              "      <th>226</th>\n",
              "      <td>Cuento Del Perro Bailarín.</td>\n",
              "      <td>Trigos, Juan.</td>\n",
              "      <td>88980</td>\n",
              "      <td></td>\n",
              "    </tr>\n",
              "    <tr>\n",
              "      <th>227</th>\n",
              "      <td>Yo Soy Bailarina</td>\n",
              "      <td>Dick, Savage, Peter, González - Blanco, Esthe ...</td>\n",
              "      <td>45790</td>\n",
              "      <td></td>\n",
              "    </tr>\n",
              "    <tr>\n",
              "      <th>228</th>\n",
              "      <td>vestuario en pegatinas bailarinas</td>\n",
              "      <td></td>\n",
              "      <td>18190</td>\n",
              "      <td>28%dcto</td>\n",
              "    </tr>\n",
              "    <tr>\n",
              "      <th>229</th>\n",
              "      <td>EL SOLDADITO DE PLOMO. EL SOLDAT DE PLOM. DAN...</td>\n",
              "      <td></td>\n",
              "      <td>29370</td>\n",
              "      <td></td>\n",
              "    </tr>\n",
              "    <tr>\n",
              "      <th>230</th>\n",
              "      <td>Dos bailarines en la pista (Carlos de Foucauld)</td>\n",
              "      <td>Lepetit, Charles</td>\n",
              "      <td>28610</td>\n",
              "      <td></td>\n",
              "    </tr>\n",
              "    <tr>\n",
              "      <th>231</th>\n",
              "      <td>anna pawlowa, la bailarina del zar</td>\n",
              "      <td>schmidt aleman henz p.</td>\n",
              "      <td>65960</td>\n",
              "      <td></td>\n",
              "    </tr>\n",
              "    <tr>\n",
              "      <th>232</th>\n",
              "      <td>bruja estrafalaria quiere ser bailarina</td>\n",
              "      <td>hiawyn horam</td>\n",
              "      <td>20590</td>\n",
              "      <td>28%dcto</td>\n",
              "    </tr>\n",
              "    <tr>\n",
              "      <th>233</th>\n",
              "      <td>Motivación para bailarines</td>\n",
              "      <td>Sylvia Fuentes</td>\n",
              "      <td>48450</td>\n",
              "      <td></td>\n",
              "    </tr>\n",
              "    <tr>\n",
              "      <th>234</th>\n",
              "      <td>Antonio, El Bailarin De España</td>\n",
              "      <td>Vv. A A</td>\n",
              "      <td>115560</td>\n",
              "      <td></td>\n",
              "    </tr>\n",
              "    <tr>\n",
              "      <th>235</th>\n",
              "      <td>los monos bailarines. cuentos ilustrados para...</td>\n",
              "      <td></td>\n",
              "      <td>41350</td>\n",
              "      <td></td>\n",
              "    </tr>\n",
              "    <tr>\n",
              "      <th>236</th>\n",
              "      <td>El cuento de los osos bailarines</td>\n",
              "      <td>Mihr, Ulrich</td>\n",
              "      <td>42500</td>\n",
              "      <td></td>\n",
              "    </tr>\n",
              "    <tr>\n",
              "      <th>237</th>\n",
              "      <td>El Caso Del Dinosaurio Bailarin</td>\n",
              "      <td>Stine Megan</td>\n",
              "      <td>62310</td>\n",
              "      <td></td>\n",
              "    </tr>\n",
              "    <tr>\n",
              "      <th>238</th>\n",
              "      <td>Antonio: El Bailarín De España</td>\n",
              "      <td>Vv. Aa</td>\n",
              "      <td>202020</td>\n",
              "      <td></td>\n",
              "    </tr>\n",
              "    <tr>\n",
              "      <th>239</th>\n",
              "      <td>La Princesa Raquel y el delfin bailarin (Span...</td>\n",
              "      <td>Vivian French</td>\n",
              "      <td>16320</td>\n",
              "      <td>28%dcto</td>\n",
              "    </tr>\n",
              "    <tr>\n",
              "      <th>240</th>\n",
              "      <td>Princesa De África: La Apasionante Historia D...</td>\n",
              "      <td>Sonia Sampayo Cabrera</td>\n",
              "      <td>52410</td>\n",
              "      <td></td>\n",
              "    </tr>\n",
              "    <tr>\n",
              "      <th>241</th>\n",
              "      <td>hay que ser modernos. la noche loca. la conde...</td>\n",
              "      <td>honorio maura</td>\n",
              "      <td>38790</td>\n",
              "      <td></td>\n",
              "    </tr>\n",
              "    <tr>\n",
              "      <th>242</th>\n",
              "      <td>novelas :la carrera de doris hart, sentencia ...</td>\n",
              "      <td>baum vicki</td>\n",
              "      <td>46850</td>\n",
              "      <td></td>\n",
              "    </tr>\n",
              "    <tr>\n",
              "      <th>243</th>\n",
              "      <td>Antigua Lámina</td>\n",
              "      <td>La Tierra, Underwood Los Hombres</td>\n",
              "      <td>27680</td>\n",
              "      <td></td>\n",
              "    </tr>\n",
              "    <tr>\n",
              "      <th>244</th>\n",
              "      <td>la condesita y su bailarín. copmedia en un pr...</td>\n",
              "      <td>honorio. maura</td>\n",
              "      <td>37070</td>\n",
              "      <td></td>\n",
              "    </tr>\n",
              "    <tr>\n",
              "      <th>245</th>\n",
              "      <td>nadie sabe lo que quiere o el bailarín y el t...</td>\n",
              "      <td>jacinto  benavente</td>\n",
              "      <td>37070</td>\n",
              "      <td></td>\n",
              "    </tr>\n",
              "    <tr>\n",
              "      <th>246</th>\n",
              "      <td>Antonio, El Bailarin De España</td>\n",
              "      <td>Dibujos Especialmente Dedicados De Picasso, Je...</td>\n",
              "      <td>35140</td>\n",
              "      <td></td>\n",
              "    </tr>\n",
              "    <tr>\n",
              "      <th>247</th>\n",
              "      <td>vols ser ballarina?</td>\n",
              "      <td>harriet castor</td>\n",
              "      <td>40380</td>\n",
              "      <td>28%dcto</td>\n",
              "    </tr>\n",
              "    <tr>\n",
              "      <th>248</th>\n",
              "      <td>la bailarina de las piernas de seda. libro di...</td>\n",
              "      <td>león villanua</td>\n",
              "      <td>59020</td>\n",
              "      <td></td>\n",
              "    </tr>\n",
              "    <tr>\n",
              "      <th>249</th>\n",
              "      <td>La ballarina de Berlín (EMPURIES NARRATIVA)</td>\n",
              "      <td>Joan Daniel Bezsonoff Montalat</td>\n",
              "      <td>27810</td>\n",
              "      <td>28%dcto</td>\n",
              "    </tr>\n",
              "  </tbody>\n",
              "</table>\n",
              "</div>"
            ],
            "text/plain": [
              "                                                 title  ...    dscto\n",
              "220   Processo Criativo em Dança com uma Bailarina ...  ...  28%dcto\n",
              "221                                   Postal Antigua    ...         \n",
              "222                Ana Pawlowa, La Bailarina Del Zar    ...         \n",
              "223   La Ballarina: 8 (Petits Plaers) (libro en Cat...  ...  28%dcto\n",
              "224                   BARBIE, 12 PRINCESAS BAILARINAS   ...         \n",
              "225                             El Bailarín Pleinair    ...         \n",
              "226                       Cuento Del Perro Bailarín.    ...         \n",
              "227                                 Yo Soy Bailarina    ...         \n",
              "228                vestuario en pegatinas bailarinas    ...  28%dcto\n",
              "229   EL SOLDADITO DE PLOMO. EL SOLDAT DE PLOM. DAN...  ...         \n",
              "230   Dos bailarines en la pista (Carlos de Foucauld)   ...         \n",
              "231               anna pawlowa, la bailarina del zar    ...         \n",
              "232          bruja estrafalaria quiere ser bailarina    ...  28%dcto\n",
              "233                        Motivación para bailarines   ...         \n",
              "234                   Antonio, El Bailarin De España    ...         \n",
              "235   los monos bailarines. cuentos ilustrados para...  ...         \n",
              "236                  El cuento de los osos bailarines   ...         \n",
              "237                   El Caso Del Dinosaurio Bailarin   ...         \n",
              "238                   Antonio: El Bailarín De España    ...         \n",
              "239   La Princesa Raquel y el delfin bailarin (Span...  ...  28%dcto\n",
              "240   Princesa De África: La Apasionante Historia D...  ...         \n",
              "241   hay que ser modernos. la noche loca. la conde...  ...         \n",
              "242   novelas :la carrera de doris hart, sentencia ...  ...         \n",
              "243                                   Antigua Lámina    ...         \n",
              "244   la condesita y su bailarín. copmedia en un pr...  ...         \n",
              "245   nadie sabe lo que quiere o el bailarín y el t...  ...         \n",
              "246                   Antonio, El Bailarin De España    ...         \n",
              "247                              vols ser ballarina?    ...  28%dcto\n",
              "248   la bailarina de las piernas de seda. libro di...  ...         \n",
              "249       La ballarina de Berlín (EMPURIES NARRATIVA)   ...  28%dcto\n",
              "\n",
              "[30 rows x 4 columns]"
            ]
          },
          "metadata": {
            "tags": []
          },
          "execution_count": 9
        }
      ]
    },
    {
      "cell_type": "code",
      "metadata": {
        "colab": {
          "base_uri": "https://localhost:8080/"
        },
        "id": "M1y6Ed64u8Gc",
        "outputId": "e57bc925-cc83-4362-f025-85228d4a1740"
      },
      "source": [
        "# remover el % de la columan dscto\n",
        "df['dscto'] = df['dscto'].apply(lambda x : x[:x.find('%dcto'):])\n",
        "df.head()"
      ],
      "execution_count": null,
      "outputs": [
        {
          "output_type": "execute_result",
          "data": {
            "text/plain": [
              "0    15\n",
              "1    15\n",
              "2      \n",
              "3    15\n",
              "4    32\n",
              "Name: dscto, dtype: object"
            ]
          },
          "metadata": {
            "tags": []
          },
          "execution_count": 10
        }
      ]
    },
    {
      "cell_type": "markdown",
      "metadata": {
        "id": "AS3u9HIT1AHw"
      },
      "source": [
        "# Recursos Útiles\n",
        "* [Guía de inicio de Beautiful Soup](https://j2logo.com/python/web-scraping-con-python-guia-inicio-beautifulsoup/)\n",
        "* [Selectores CSS](https://flukeout.github.io/)"
      ]
    }
  ]
}